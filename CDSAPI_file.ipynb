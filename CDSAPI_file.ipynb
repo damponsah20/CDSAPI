{
 "cells": [
  {
   "cell_type": "code",
   "execution_count": null,
   "id": "1586369f-70da-4308-bdbe-2d4beb8f8e53",
   "metadata": {},
   "outputs": [],
   "source": [
    "# import cdsapi\n",
    "\n",
    "# c = cdsapi.Client()\n",
    "# for year in range(2014,2024):\n",
    "#     c.retrieve(\n",
    "#     'reanalysis-era5-single-levels',\n",
    "#     {\n",
    "#         'product_type': 'reanalysis',\n",
    "#         'variable': [\n",
    "#             'boundary_layer_height', 'geopotential', 'surface_latent_heat_flux',\n",
    "#             'surface_sensible_heat_flux',\n",
    "#         ],\n",
    "#         'year': str(year),\n",
    "#         'month': [\n",
    "#             '01', '02', '03',\n",
    "#             '04', '05', '06',\n",
    "#             '07', '08', '09',\n",
    "#             '10', '11', '12',\n",
    "#         ],\n",
    "        # 'day': [\n",
    "        #     '01', '02', '03',\n",
    "        #     '04', '05', '06',\n",
    "        #     '07', '08', '09',\n",
    "        #     '10', '11', '12',\n",
    "        #     '13', '14', '15',\n",
    "        #     '16', '17', '18',\n",
    "        #     '19', '20', '21',\n",
    "        #     '22', '23', '24',\n",
    "        #     '25', '26', '27',\n",
    "        #     '28', '29', '30',\n",
    "        #     '31',\n",
    "        # ],\n",
    "        # 'time': [\n",
    "        #     '00:00', '06:00', '12:00',\n",
    "        #     '18:00',\n",
    "        # ],\n",
    "    #     'area': [\n",
    "    #         28, -28, 4,\n",
    "    #         15,\n",
    "    #     ],\n",
    "    #     'format': 'netcdf',\n",
    "    # },\n",
    "    # 'dat_'+str(year)+'.nc')"
   ]
  }
 ],
 "metadata": {
  "kernelspec": {
   "display_name": "Python 3 (ipykernel)",
   "language": "python",
   "name": "python3"
  },
  "language_info": {
   "codemirror_mode": {
    "name": "ipython",
    "version": 3
   },
   "file_extension": ".py",
   "mimetype": "text/x-python",
   "name": "python",
   "nbconvert_exporter": "python",
   "pygments_lexer": "ipython3",
   "version": "3.9.18"
  }
 },
 "nbformat": 4,
 "nbformat_minor": 5
}
